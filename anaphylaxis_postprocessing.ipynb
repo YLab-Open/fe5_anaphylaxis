{
 "cells": [
  {
   "cell_type": "code",
   "execution_count": null,
   "metadata": {},
   "outputs": [],
   "source": [
    "import pandas as pd"
   ]
  },
  {
   "cell_type": "code",
   "execution_count": null,
   "metadata": {},
   "outputs": [],
   "source": [
    "df = pd.read_csv(\"/PHShome/bg615/Anaphylaxis_pipeline/fe5_cTAKES/fe_feature_detail_table_anaphylaxis.csv\")\n",
    "df"
   ]
  },
  {
   "cell_type": "code",
   "execution_count": null,
   "metadata": {},
   "outputs": [],
   "source": [
    "# Remove the \".txt\" suffix of each ProviderID\n",
    "df[\"ProviderID\"] = df[\"ProviderID\"].str.replace(\".txt\", \"\", regex=False)\n",
    "df"
   ]
  },
  {
   "cell_type": "code",
   "execution_count": null,
   "metadata": {},
   "outputs": [],
   "source": [
    "df[\"Feature_Status\"].value_counts()"
   ]
  },
  {
   "cell_type": "code",
   "execution_count": null,
   "metadata": {},
   "outputs": [],
   "source": [
    "# Change all non-A values to U\n",
    "df.loc[~df[\"Feature_Status\"].isin([\"A\"]), \"Feature_Status\"] = \"U\"\n",
    "df[\"Feature_Status\"].value_counts()"
   ]
  },
  {
   "cell_type": "code",
   "execution_count": null,
   "metadata": {},
   "outputs": [],
   "source": [
    "# Group the rows and aggregate the Feature_Status values of different NoteIDs by the order\n",
    "order = {\"A\": 5, \"N\": 4, \"H\": 3, \"X\": 2, \"U\": 1}\n",
    "df_grouped_status = df.groupby([\"PatID\", \"EncounterID\", \"FeatureID\", \"Feature\", \"FE_CodeType\", \"Confidence\"]).agg({\"Feature_Status\": lambda x: max(x, key=lambda y: order[y])}).reset_index()\n",
    "df_grouped_status"
   ]
  },
  {
   "cell_type": "code",
   "execution_count": null,
   "metadata": {},
   "outputs": [],
   "source": [
    "# Group the rows and aggregate the Feature_dt and ProviderID of different NoteIDs by the earliest date\n",
    "df_grouped_date = df.groupby([\"PatID\", \"EncounterID\", \"FeatureID\", \"Feature\", \"FE_CodeType\", \"Confidence\"]).agg({\"Feature_dt\": \"min\", \"ProviderID\": \"first\"}).reset_index()\n",
    "df_grouped_date"
   ]
  },
  {
   "cell_type": "code",
   "execution_count": null,
   "metadata": {},
   "outputs": [],
   "source": [
    "# Merge the two DataFrames\n",
    "df = pd.merge(df_grouped_date, df_grouped_status, on=[\"PatID\", \"EncounterID\", \"FeatureID\", \"Feature\", \"FE_CodeType\", \"Confidence\"], how=\"inner\")\n",
    "df"
   ]
  },
  {
   "cell_type": "code",
   "execution_count": null,
   "metadata": {},
   "outputs": [],
   "source": [
    "# Ensure that the columns are in the order of the original table\n",
    "df = df[[\"PatID\", \"EncounterID\", \"FeatureID\", \"Feature_dt\", \"Feature\", \"FE_CodeType\", \"ProviderID\", \"Confidence\", \"Feature_Status\"]]\n",
    "df"
   ]
  },
  {
   "cell_type": "code",
   "execution_count": null,
   "metadata": {},
   "outputs": [],
   "source": [
    "# Sort the rows by PatID and EncounterID\n",
    "df.sort_values(by=[\"PatID\", \"EncounterID\"], inplace=True)\n",
    "df"
   ]
  },
  {
   "cell_type": "code",
   "execution_count": null,
   "metadata": {},
   "outputs": [],
   "source": [
    "df.reset_index(drop=True)"
   ]
  },
  {
   "cell_type": "code",
   "execution_count": null,
   "metadata": {},
   "outputs": [],
   "source": [
    "df[\"Feature_Status\"].value_counts()"
   ]
  },
  {
   "cell_type": "code",
   "execution_count": null,
   "metadata": {},
   "outputs": [],
   "source": [
    "df_filtered = df[df[\"Feature_Status\"] == \"A\"]\n",
    "df_filtered"
   ]
  },
  {
   "cell_type": "code",
   "execution_count": null,
   "metadata": {},
   "outputs": [],
   "source": [
    "df_filtered[\"PatID\"].nunique()"
   ]
  },
  {
   "cell_type": "code",
   "execution_count": null,
   "metadata": {},
   "outputs": [],
   "source": [
    "df_filtered[['PatID', 'EncounterID']].drop_duplicates()"
   ]
  },
  {
   "cell_type": "code",
   "execution_count": null,
   "metadata": {},
   "outputs": [],
   "source": [
    "df.to_csv(\"/PHShome/bg615/Anaphylaxis_pipeline/fe5_cTAKES/fe_feature_table_anaphylaxis.csv\", index=False)"
   ]
  },
  {
   "cell_type": "code",
   "execution_count": null,
   "metadata": {},
   "outputs": [],
   "source": [
    "df[\"PatID\"].nunique()"
   ]
  },
  {
   "cell_type": "code",
   "execution_count": null,
   "metadata": {},
   "outputs": [],
   "source": [
    "df_U = df[df[\"Feature_Status\"] == \"U\"]\n",
    "df_U"
   ]
  },
  {
   "cell_type": "code",
   "execution_count": null,
   "metadata": {},
   "outputs": [],
   "source": [
    "df_U[\"PatID\"].nunique()"
   ]
  }
 ],
 "metadata": {
  "kernelspec": {
   "display_name": "dspy",
   "language": "python",
   "name": "python3"
  },
  "language_info": {
   "codemirror_mode": {
    "name": "ipython",
    "version": 3
   },
   "file_extension": ".py",
   "mimetype": "text/x-python",
   "name": "python",
   "nbconvert_exporter": "python",
   "pygments_lexer": "ipython3",
   "version": "3.11.9"
  }
 },
 "nbformat": 4,
 "nbformat_minor": 2
}
