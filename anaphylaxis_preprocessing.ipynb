{
 "cells": [
  {
   "cell_type": "code",
   "execution_count": null,
   "metadata": {},
   "outputs": [],
   "source": [
    "import pandas as pd\n",
    "import numpy as np\n",
    "from datetime import timedelta, date"
   ]
  },
  {
   "cell_type": "code",
   "execution_count": null,
   "metadata": {},
   "outputs": [],
   "source": [
    "###########################\n",
    "# 1. Read and concatenate data\n",
    "###########################\n",
    "file2019_dx = \"../Data/diagnosis_2019.sas7bdat\"\n",
    "file2020_dx = \"../Data/diagnosis_2020.sas7bdat\"\n",
    "\n",
    "df2019_dx = pd.read_sas(file2019_dx)\n",
    "df2020_dx = pd.read_sas(file2020_dx)\n",
    "df_dx = pd.concat([df2019_dx, df2020_dx], ignore_index=True)\n",
    "\n",
    "file2019_px = \"../Data/procedures_2019.sas7bdat\"\n",
    "file2020_px = \"../Data/procedures_2020.sas7bdat\"\n",
    "\n",
    "df2019_px = pd.read_sas(file2019_px)\n",
    "df2020_px = pd.read_sas(file2020_px)\n",
    "df_px = pd.concat([df2019_px, df2020_px], ignore_index=True)"
   ]
  },
  {
   "cell_type": "code",
   "execution_count": null,
   "metadata": {},
   "outputs": [],
   "source": [
    "df_dx"
   ]
  },
  {
   "cell_type": "code",
   "execution_count": null,
   "metadata": {},
   "outputs": [],
   "source": [
    "df_px"
   ]
  },
  {
   "cell_type": "code",
   "execution_count": null,
   "metadata": {},
   "outputs": [],
   "source": [
    "df_dx = df_dx[[\"PATIENT_NUM\", \"ENCOUNTER_NUM\", \"Admit_Date\", \"Dx_Type\" , \"Dx\", \"PROVIDER_ID\", \"Enc_Type\"]]\n",
    "df_dx"
   ]
  },
  {
   "cell_type": "code",
   "execution_count": null,
   "metadata": {},
   "outputs": [],
   "source": [
    "df_px = df_px[[\"PATIENT_NUM\", \"ENCOUNTER_NUM\", \"Admit_Date\", \"Px_Type\" , \"Px\", \"PROVIDER_ID\", \"Enc_Type\"]]\n",
    "df_px"
   ]
  },
  {
   "cell_type": "code",
   "execution_count": null,
   "metadata": {},
   "outputs": [],
   "source": [
    "###########################\n",
    "# 2. Decode byte columns and convert Admit_Date\n",
    "###########################\n",
    "for col in ['Dx_Type', 'Dx', 'PROVIDER_ID', 'Enc_Type']:\n",
    "    df_dx[col] = df_dx[col].apply(lambda x: x.decode('utf-8') if isinstance(x, bytes) else x)\n",
    "\n",
    "df_dx['Admit_Date'] = pd.to_datetime(df_dx['Admit_Date'])\n",
    "df_dx = df_dx[df_dx['Admit_Date'].dt.year.isin([2019, 2020])]  # Ensure only 2019 and 2020 data is included\n",
    "\n",
    "for col in ['Px_Type', 'Px', 'PROVIDER_ID', 'Enc_Type']:\n",
    "    df_px[col] = df_px[col].apply(lambda x: x.decode('utf-8') if isinstance(x, bytes) else x)\n",
    "\n",
    "df_px['Admit_Date'] = pd.to_datetime(df_px['Admit_Date'])\n",
    "df_px = df_px[df_px['Admit_Date'].dt.year.isin([2019, 2020])]  # Ensure only 2019 and 2020 data is included"
   ]
  },
  {
   "cell_type": "code",
   "execution_count": null,
   "metadata": {},
   "outputs": [],
   "source": [
    "df_dx"
   ]
  },
  {
   "cell_type": "code",
   "execution_count": null,
   "metadata": {},
   "outputs": [],
   "source": [
    "df_px"
   ]
  },
  {
   "cell_type": "code",
   "execution_count": null,
   "metadata": {},
   "outputs": [],
   "source": [
    "###########################\n",
    "# 3. Classify encounter type\n",
    "###########################\n",
    "def classify_encounter(enc):\n",
    "    if enc in ['EI', 'IP']:\n",
    "        return 'Inpatient'\n",
    "    elif enc == 'ED':\n",
    "        return 'ED'\n",
    "    elif enc in ['AV', 'IS', 'OS', 'IC', 'TH', 'OA']:\n",
    "        return 'Outpatient'\n",
    "    else:\n",
    "        return 'Other'\n",
    "        \n",
    "df_dx['Encounter_Class'] = df_dx['Enc_Type'].apply(classify_encounter)\n",
    "df_px['Encounter_Class'] = df_px['Enc_Type'].apply(classify_encounter)"
   ]
  },
  {
   "cell_type": "code",
   "execution_count": null,
   "metadata": {},
   "outputs": [],
   "source": [
    "df_dx"
   ]
  },
  {
   "cell_type": "code",
   "execution_count": null,
   "metadata": {},
   "outputs": [],
   "source": [
    "df_px"
   ]
  },
  {
   "cell_type": "code",
   "execution_count": null,
   "metadata": {},
   "outputs": [],
   "source": [
    "###########################\n",
    "# 4. Define the diagnosis code lists (without dots)\n",
    "###########################\n",
    "\n",
    "# List 1\n",
    "list1_icd9 = {\"9950\", \"99560\", \"99561\", \"99562\", \"99565\", \"99563\", \"99564\", \"99566\",\n",
    "              \"99567\", \"99568\", \"99569\", \"99941\", \"99942\", \"99949\"}\n",
    "list1_icd10 = {\"T782XXA\", \"T886XXA\", \"T7800XA\", \"T7801XA\", \"T7802XA\", \"T7803XA\",\n",
    "               \"T7804XA\", \"T7805XA\", \"T7806XA\", \"T7807XA\", \"T7808XA\", \"T7809XA\",\n",
    "               \"T8051XA\", \"T8052XA\", \"T8059XA\"}\n",
    "\n",
    "# List 2 (Group I)\n",
    "list2_group1_icd9 = {\"51911\", \"7861\"}\n",
    "list2_group1_icd10 = {\"J9801\", \"R061\"}\n",
    "list2_group1_pcs = {\"J1200\"}\n",
    "list2_group1_cpt = set()  # No CPT codes for this group\n",
    "\n",
    "# List 2 (Group II)\n",
    "list2_group2_icd9 = {\"4589\", \"9960\"}  # 99.60 is stored as \"9960\"\n",
    "list2_group2_icd10 = {\"I959\", \"5A12012\", \"5A1221Z\"}\n",
    "list2_group2_pcs = {\"J0170\", \"J0171\"}\n",
    "list2_group2_cpt = {\"92950\"}\n",
    "\n",
    "# List 3\n",
    "list3_icd9 = {\"9952\", \"99522\", \"99523\", \"99527\", \"99529\", \"9953\"}\n",
    "# For ICD-9, also any code in the range E930.* - E949.* will qualify.\n",
    "# For ICD-10, we list the many explicit codes:\n",
    "list3_icd10 = {\n",
    "    \"T50905A\", \"T410X5A\", \"T411X5A\", \"T41205A\", \"T41295A\", \"T413X5A\", \"T4145XA\", \"T8859XA\",\n",
    "    \"T383X5A\", \"T50995A\", \"T7840XA\", \"T7849XA\", \"T360X5A\", \"T361X5A\", \"T362X5A\", \"T363X5A\",\n",
    "    \"T364X5A\", \"T365X5A\", \"T366X5A\", \"T367X5A\", \"T368X5A\", \"T3695XA\", \"T370X5A\", \"T371X5A\",\n",
    "    \"T372X5A\", \"T373X5A\", \"T374X5A\", \"T375X5A\", \"T378X5A\", \"T3795XA\", \"T380X5A\", \"T381X5A\",\n",
    "    \"T382X5A\", \"T384X5A\", \"T385X5A\", \"T386X5A\", \"T387X5A\", \"T38805A\", \"T38815A\", \"T38895A\",\n",
    "    \"T38905A\", \"T38995A\", \"T39015A\", \"T39095A\", \"T391X5A\", \"T392X5A\", \"T39315A\", \"T39395A\",\n",
    "    \"T394X5A\", \"T398X5A\", \"T3995XA\", \"T400X5A\", \"T402X5A\", \"T403X5A\", \"T404X5A\", \"T405X5A\",\n",
    "    \"T40605A\", \"T40695A\", \"T407X5A\", \"T40905A\", \"T40995A\", \"T415X5A\", \"T420X5A\", \"T421X5A\",\n",
    "    \"T422X5A\", \"T423X5A\", \"T424X5A\", \"T425X5A\", \"T426X5A\", \"T4275XA\", \"T428X5A\", \"T43015A\",\n",
    "    \"T43025A\", \"T431X5A\", \"T43205A\", \"T43215A\", \"T43225A\", \"T43295A\", \"T433X5A\", \"T434X5A\",\n",
    "    \"T43505A\", \"T43595A\", \"T43605A\", \"T43615A\", \"T43625A\", \"T43635A\", \"T43695A\", \"T438X5A\",\n",
    "    \"T4395XA\", \"T440X5A\", \"T441X5A\", \"T442X5A\", \"T442X5S\", \"T443X5A\", \"T444X5A\", \"T445X5A\",\n",
    "    \"T446X5A\", \"T447X5A\", \"T448X5A\", \"T44905A\", \"T44905S\", \"T44995A\", \"T44995S\", \"T450X5A\",\n",
    "    \"T451X5A\", \"T452X5A\", \"T453X5A\", \"T454X5A\", \"T45515A\", \"T45525A\", \"T45605A\", \"T45615A\",\n",
    "    \"T45625A\", \"T45695A\", \"T457X5A\", \"T458X5A\", \"T4595XA\", \"T460X5A\", \"T461X5A\", \"T462X5A\",\n",
    "    \"T463X5A\", \"T464X5A\", \"T465X5A\", \"T466X5A\", \"T467X5A\", \"T468X5A\", \"T46905A\", \"T46995A\",\n",
    "    \"T470X5A\", \"T471X5A\", \"T472X5A\", \"T473X5A\", \"T474X5A\", \"T475X5A\", \"T476X5A\", \"T477X5A\",\n",
    "    \"T478X5A\", \"T4795XA\", \"T480X5A\", \"T481X5A\", \"T48205A\", \"T48295A\", \"T483X5A\", \"T484X5A\",\n",
    "    \"T485X5A\", \"T486X5A\", \"T48905A\", \"T48995A\", \"T490X5A\", \"T491X5A\", \"T492X5A\", \"T493X5A\",\n",
    "    \"T494X5A\", \"T495X5A\", \"T496X5A\", \"T497X5A\", \"T498X5A\", \"T4995XA\", \"T500X5A\", \"T501X5A\",\n",
    "    \"T502X5A\", \"T503X5A\", \"T504X5A\", \"T505X5A\", \"T506X5A\", \"T507X5A\", \"T508X5A\", \"T50905A\",\n",
    "    \"T50A15A\", \"T50A25A\", \"T50A95A\", \"T50B15A\", \"T50B95A\", \"T50Z15A\", \"T50Z95A\", \"T887XXA\"\n",
    "}"
   ]
  },
  {
   "cell_type": "markdown",
   "metadata": {},
   "source": [
    "### Path 1 (Wash criterion A)"
   ]
  },
  {
   "cell_type": "code",
   "execution_count": null,
   "metadata": {},
   "outputs": [],
   "source": [
    "df_path_1_dx = df_dx[(df_dx[\"Encounter_Class\"] == \"Inpatient\") | (df_dx[\"Encounter_Class\"] == \"ED\")]\n",
    "df_path_1_dx"
   ]
  },
  {
   "cell_type": "code",
   "execution_count": null,
   "metadata": {},
   "outputs": [],
   "source": [
    "df_path_1_px = df_px[(df_px[\"Encounter_Class\"] == \"Inpatient\") | (df_px[\"Encounter_Class\"] == \"ED\")]\n",
    "df_path_1_px"
   ]
  },
  {
   "cell_type": "code",
   "execution_count": null,
   "metadata": {},
   "outputs": [],
   "source": [
    "df_path_1_dx[\"Dx_Type\"].unique()"
   ]
  },
  {
   "cell_type": "code",
   "execution_count": null,
   "metadata": {},
   "outputs": [],
   "source": [
    "df_path_1_px[\"Px_Type\"].unique()"
   ]
  },
  {
   "cell_type": "code",
   "execution_count": null,
   "metadata": {},
   "outputs": [],
   "source": [
    "df_path_1_target_icd_dx = df_path_1_dx[df_path_1_dx[\"Dx\"].isin(list1_icd10)]\n",
    "df_path_1_target_icd_dx"
   ]
  },
  {
   "cell_type": "code",
   "execution_count": null,
   "metadata": {},
   "outputs": [],
   "source": [
    "df_path_1_target_icd_px = df_path_1_px[df_path_1_px[\"Px\"].isin(list1_icd10)]\n",
    "df_path_1_target_icd_px"
   ]
  },
  {
   "cell_type": "code",
   "execution_count": null,
   "metadata": {},
   "outputs": [],
   "source": [
    "# First, create a copy of the dataframe to avoid modifying the original\n",
    "df_grouped = df_path_1_target_icd_dx.copy()\n",
    "\n",
    "# Create a function to calculate the max difference for each group\n",
    "def calc_max_diff_days(group):\n",
    "    if len(group) > 1:\n",
    "        # Sort by admit date first\n",
    "        group = group.sort_values('Admit_Date')\n",
    "        # Calculate the day difference between consecutive dates\n",
    "        day_diffs = group['Admit_Date'].diff().dt.days\n",
    "        # Return the maximum difference or 0 if there are no valid differences\n",
    "        return day_diffs.max()\n",
    "    else:\n",
    "        # For groups with only one row, return 0\n",
    "        return 0\n",
    "\n",
    "# Group by PATIENT_NUM, ENCOUNTER_NUM, Dx and apply the function\n",
    "result = df_grouped.groupby(['PATIENT_NUM', 'ENCOUNTER_NUM', 'Dx']).apply(\n",
    "    lambda x: pd.Series({'size': len(x), 'max_diff_days': calc_max_diff_days(x)})\n",
    ").reset_index()\n",
    "\n",
    "result"
   ]
  },
  {
   "cell_type": "code",
   "execution_count": null,
   "metadata": {},
   "outputs": [],
   "source": [
    "result[result[\"size\"] > 1]"
   ]
  },
  {
   "cell_type": "code",
   "execution_count": null,
   "metadata": {},
   "outputs": [],
   "source": [
    "result_filtered = result[(result[\"max_diff_days\"] == 0) | (result[\"max_diff_days\"] >= 60)]\n",
    "result_filtered"
   ]
  },
  {
   "cell_type": "code",
   "execution_count": null,
   "metadata": {},
   "outputs": [],
   "source": [
    "df_path_1_final = result_filtered[[\"PATIENT_NUM\", \"ENCOUNTER_NUM\"]].drop_duplicates().reset_index(drop=True)\n",
    "df_path_1_final"
   ]
  },
  {
   "cell_type": "code",
   "execution_count": null,
   "metadata": {},
   "outputs": [],
   "source": [
    "path_1_patient_num = df_path_1_final[\"PATIENT_NUM\"].nunique()\n",
    "path_1_encounter_num = df_path_1_final[\"ENCOUNTER_NUM\"].nunique()\n",
    "print(f\"Number of unique patients: {path_1_patient_num}\")\n",
    "print(f\"Number of unique encounters: {path_1_encounter_num}\")"
   ]
  },
  {
   "cell_type": "markdown",
   "metadata": {},
   "source": [
    "### Path 2 (Wash criterion B)"
   ]
  },
  {
   "cell_type": "code",
   "execution_count": null,
   "metadata": {},
   "outputs": [],
   "source": [
    "df_path_2_dx = df_dx[(df_dx[\"Encounter_Class\"] == \"Outpatient\")]\n",
    "df_path_2_dx"
   ]
  },
  {
   "cell_type": "code",
   "execution_count": null,
   "metadata": {},
   "outputs": [],
   "source": [
    "df_path_2_px = df_px[(df_px[\"Encounter_Class\"] == \"Outpatient\")]\n",
    "df_path_2_px"
   ]
  },
  {
   "cell_type": "code",
   "execution_count": null,
   "metadata": {},
   "outputs": [],
   "source": [
    "df_path_2_dx[\"Dx_Type\"].unique()"
   ]
  },
  {
   "cell_type": "code",
   "execution_count": null,
   "metadata": {},
   "outputs": [],
   "source": [
    "df_path_2_px[\"Px_Type\"].unique()"
   ]
  },
  {
   "cell_type": "code",
   "execution_count": null,
   "metadata": {},
   "outputs": [],
   "source": [
    "df_path_2_target_icd_1_dx = df_path_2_dx[(df_path_2_dx[\"Dx\"].isin(list1_icd10.union(list1_icd9)))]\n",
    "df_path_2_target_icd_1_dx"
   ]
  },
  {
   "cell_type": "code",
   "execution_count": null,
   "metadata": {},
   "outputs": [],
   "source": [
    "df_path_2_target_icd_1_px = df_path_2_px[(df_path_2_px[\"Px\"].isin(list1_icd10.union(list1_icd9)))]\n",
    "df_path_2_target_icd_1_px"
   ]
  },
  {
   "cell_type": "code",
   "execution_count": null,
   "metadata": {},
   "outputs": [],
   "source": [
    "# Union list2_group1_icd10 and list2_group2_icd10\n",
    "list2_icd10 = list2_group1_icd10.union(list2_group2_icd10)\n",
    "list2_icd9 = list2_group1_icd9.union(list2_group2_icd9)"
   ]
  },
  {
   "cell_type": "code",
   "execution_count": null,
   "metadata": {},
   "outputs": [],
   "source": [
    "df_path_2_target_icd_2_dx = df_path_2_dx[df_path_2_dx[\"Dx\"].isin(list2_icd10.union(list2_icd9))]\n",
    "df_path_2_target_icd_2_dx"
   ]
  },
  {
   "cell_type": "code",
   "execution_count": null,
   "metadata": {},
   "outputs": [],
   "source": [
    "list2_pcs = list2_group1_pcs.union(list2_group2_pcs)\n",
    "list2_cpt = list2_group1_cpt.union(list2_group2_cpt)"
   ]
  },
  {
   "cell_type": "code",
   "execution_count": null,
   "metadata": {},
   "outputs": [],
   "source": [
    "df_path_2_target_icd_2_px = df_path_2_px[df_path_2_px[\"Px\"].isin(list2_pcs.union(list2_cpt).union(list2_icd10))]\n",
    "df_path_2_target_icd_2_px"
   ]
  },
  {
   "cell_type": "code",
   "execution_count": null,
   "metadata": {},
   "outputs": [],
   "source": [
    "df_path_2_target_icd_2_px[\"Px_Type\"].unique()"
   ]
  },
  {
   "cell_type": "code",
   "execution_count": null,
   "metadata": {},
   "outputs": [],
   "source": [
    "df_path_2_target_icd_1_dx.columns = [\"PATIENT_NUM\", \"ENCOUNTER_NUM\", \"Admit_Date\", \"Type\", \"Code\", \"PROVIDER_ID\", \"Enc_Type\", \"Encounter_Class\"]\n",
    "df_path_2_target_icd_1_px.columns = [\"PATIENT_NUM\", \"ENCOUNTER_NUM\", \"Admit_Date\", \"Type\", \"Code\", \"PROVIDER_ID\", \"Enc_Type\", \"Encounter_Class\"]\n",
    "df_path_2_target_icd_1 = pd.concat([df_path_2_target_icd_1_dx, df_path_2_target_icd_1_px], ignore_index=True)\n",
    "df_path_2_target_icd_1"
   ]
  },
  {
   "cell_type": "code",
   "execution_count": null,
   "metadata": {},
   "outputs": [],
   "source": [
    "df_path_2_target_icd_2_dx.columns = [\"PATIENT_NUM\", \"ENCOUNTER_NUM\", \"Admit_Date\", \"Type\", \"Code\", \"PROVIDER_ID\", \"Enc_Type\", \"Encounter_Class\"]\n",
    "df_path_2_target_icd_2_px.columns = [\"PATIENT_NUM\", \"ENCOUNTER_NUM\", \"Admit_Date\", \"Type\", \"Code\", \"PROVIDER_ID\", \"Enc_Type\", \"Encounter_Class\"]\n",
    "df_path_2_target_icd_2 = pd.concat([df_path_2_target_icd_2_dx, df_path_2_target_icd_2_px], ignore_index=True)\n",
    "df_path_2_target_icd_2"
   ]
  },
  {
   "cell_type": "code",
   "execution_count": null,
   "metadata": {},
   "outputs": [],
   "source": [
    "# Join df_path_2_target_icd_1 and df_path_2_target_icd_2 on \"PATIENT_NUM\" and \"ENCOUNTER_NUM\"\n",
    "df_path_2_merged = pd.merge(df_path_2_target_icd_1, df_path_2_target_icd_2, on=[\"PATIENT_NUM\", \"ENCOUNTER_NUM\"], how=\"inner\")\n",
    "df_path_2_merged"
   ]
  },
  {
   "cell_type": "code",
   "execution_count": null,
   "metadata": {},
   "outputs": [],
   "source": [
    "df_path_2_merged_filtered = df_path_2_merged[df_path_2_merged[\"Admit_Date_x\"] == df_path_2_merged[\"Admit_Date_y\"]]\n",
    "df_path_2_merged_filtered"
   ]
  },
  {
   "cell_type": "code",
   "execution_count": null,
   "metadata": {},
   "outputs": [],
   "source": [
    "df_path_2_final = df_path_2_merged_filtered[[\"PATIENT_NUM\", \"ENCOUNTER_NUM\"]].drop_duplicates().reset_index(drop=True)\n",
    "df_path_2_final"
   ]
  },
  {
   "cell_type": "code",
   "execution_count": null,
   "metadata": {},
   "outputs": [],
   "source": [
    "path_2_patient_num = df_path_2_final[\"PATIENT_NUM\"].nunique()\n",
    "path_2_encounter_num = df_path_2_final[\"ENCOUNTER_NUM\"].nunique()\n",
    "print(f\"Number of unique patients: {path_2_patient_num}\")\n",
    "print(f\"Number of unique encounters: {path_2_encounter_num}\")"
   ]
  },
  {
   "cell_type": "markdown",
   "metadata": {},
   "source": [
    "### Path 3 (Wash criterion C)"
   ]
  },
  {
   "cell_type": "code",
   "execution_count": null,
   "metadata": {},
   "outputs": [],
   "source": [
    "df_path_3_dx = df_dx[(df_dx[\"Encounter_Class\"] == \"Inpatient\") | (df_dx[\"Encounter_Class\"] == \"ED\")]\n",
    "df_path_3_dx"
   ]
  },
  {
   "cell_type": "code",
   "execution_count": null,
   "metadata": {},
   "outputs": [],
   "source": [
    "df_path_3_dx[\"Dx_Type\"].unique()"
   ]
  },
  {
   "cell_type": "code",
   "execution_count": null,
   "metadata": {},
   "outputs": [],
   "source": [
    "df_path_3_px = df_px[(df_px[\"Encounter_Class\"] == \"Inpatient\") | (df_px[\"Encounter_Class\"] == \"ED\")]\n",
    "df_path_3_px"
   ]
  },
  {
   "cell_type": "code",
   "execution_count": null,
   "metadata": {},
   "outputs": [],
   "source": [
    "df_path_3_px[\"Px_Type\"].unique()"
   ]
  },
  {
   "cell_type": "code",
   "execution_count": null,
   "metadata": {},
   "outputs": [],
   "source": [
    "df_path_3_target_icd_1_dx = df_path_3_dx[df_path_3_dx[\"Dx\"].isin(list3_icd10)]\n",
    "df_path_3_target_icd_1_dx"
   ]
  },
  {
   "cell_type": "code",
   "execution_count": null,
   "metadata": {},
   "outputs": [],
   "source": [
    "df_path_3_target_icd_1_px = df_path_3_px[df_path_3_px[\"Px\"].isin(list3_icd10)]\n",
    "df_path_3_target_icd_1_px"
   ]
  },
  {
   "cell_type": "code",
   "execution_count": null,
   "metadata": {},
   "outputs": [],
   "source": [
    "df_path_3_target_icd_2_dx = df_path_3_dx[df_path_3_dx[\"Dx\"].isin(list2_group1_icd10)]\n",
    "df_path_3_target_icd_2_dx"
   ]
  },
  {
   "cell_type": "code",
   "execution_count": null,
   "metadata": {},
   "outputs": [],
   "source": [
    "df_path_3_target_icd_2_px = df_path_3_px[df_path_3_px[\"Px\"].isin(list2_group1_icd10.union(list2_group1_pcs).union(list2_group1_cpt))]\n",
    "df_path_3_target_icd_2_px"
   ]
  },
  {
   "cell_type": "code",
   "execution_count": null,
   "metadata": {},
   "outputs": [],
   "source": [
    "df_path_3_target_icd_3_dx = df_path_3_dx[df_path_3_dx[\"Dx\"].isin(list2_group2_icd10)]\n",
    "df_path_3_target_icd_3_dx"
   ]
  },
  {
   "cell_type": "code",
   "execution_count": null,
   "metadata": {},
   "outputs": [],
   "source": [
    "df_path_3_target_icd_3_px = df_path_3_px[df_path_3_px[\"Px\"].isin(list2_group2_icd10.union(list2_group2_pcs).union(list2_group2_cpt))]\n",
    "df_path_3_target_icd_3_px"
   ]
  },
  {
   "cell_type": "code",
   "execution_count": null,
   "metadata": {},
   "outputs": [],
   "source": [
    "df_path_3_target_icd_1_dx.columns = [\"PATIENT_NUM\", \"ENCOUNTER_NUM\", \"Admit_Date\", \"Type\", \"Code\", \"PROVIDER_ID\", \"Enc_Type\", \"Encounter_Class\"]\n",
    "df_path_3_target_icd_1_px.columns = [\"PATIENT_NUM\", \"ENCOUNTER_NUM\", \"Admit_Date\", \"Type\", \"Code\", \"PROVIDER_ID\", \"Enc_Type\", \"Encounter_Class\"]\n",
    "df_path_3_target_icd_1 = pd.concat([df_path_3_target_icd_1_dx, df_path_3_target_icd_1_px], ignore_index=True)\n",
    "df_path_3_target_icd_1"
   ]
  },
  {
   "cell_type": "code",
   "execution_count": null,
   "metadata": {},
   "outputs": [],
   "source": [
    "df_path_3_target_icd_2_dx.columns = [\"PATIENT_NUM\", \"ENCOUNTER_NUM\", \"Admit_Date\", \"Type\", \"Code\", \"PROVIDER_ID\", \"Enc_Type\", \"Encounter_Class\"]\n",
    "df_path_3_target_icd_2_px.columns = [\"PATIENT_NUM\", \"ENCOUNTER_NUM\", \"Admit_Date\", \"Type\", \"Code\", \"PROVIDER_ID\", \"Enc_Type\", \"Encounter_Class\"]\n",
    "df_path_3_target_icd_2 = pd.concat([df_path_3_target_icd_2_dx, df_path_3_target_icd_2_px], ignore_index=True)\n",
    "df_path_3_target_icd_2"
   ]
  },
  {
   "cell_type": "code",
   "execution_count": null,
   "metadata": {},
   "outputs": [],
   "source": [
    "df_path_3_target_icd_3_dx.columns = [\"PATIENT_NUM\", \"ENCOUNTER_NUM\", \"Admit_Date\", \"Type\", \"Code\", \"PROVIDER_ID\", \"Enc_Type\", \"Encounter_Class\"]\n",
    "df_path_3_target_icd_3_px.columns = [\"PATIENT_NUM\", \"ENCOUNTER_NUM\", \"Admit_Date\", \"Type\", \"Code\", \"PROVIDER_ID\", \"Enc_Type\", \"Encounter_Class\"]\n",
    "df_path_3_target_icd_3 = pd.concat([df_path_3_target_icd_3_dx, df_path_3_target_icd_3_px], ignore_index=True)\n",
    "df_path_3_target_icd_3"
   ]
  },
  {
   "cell_type": "code",
   "execution_count": null,
   "metadata": {},
   "outputs": [],
   "source": [
    "# Join df_path_3_target_icd_1, df_path_3_target_icd_2, and df_path_3_target_icd_3 on \"PATIENT_NUM\" and \"ENCOUNTER_NUM\"\n",
    "df_path_3_merged_1 = pd.merge(df_path_3_target_icd_1, df_path_3_target_icd_2, on=[\"PATIENT_NUM\", \"ENCOUNTER_NUM\"], how=\"inner\")\n",
    "df_path_3_merged_1"
   ]
  },
  {
   "cell_type": "code",
   "execution_count": null,
   "metadata": {},
   "outputs": [],
   "source": [
    "df_path_3_merged = pd.merge(df_path_3_merged_1, df_path_3_target_icd_3, on=[\"PATIENT_NUM\", \"ENCOUNTER_NUM\"], how=\"inner\")\n",
    "df_path_3_merged"
   ]
  },
  {
   "cell_type": "code",
   "execution_count": null,
   "metadata": {},
   "outputs": [],
   "source": [
    "df_path_3_merged_filtered = df_path_3_merged[(df_path_3_merged[\"Admit_Date_x\"] == df_path_3_merged[\"Admit_Date_y\"]) & (df_path_3_merged[\"Admit_Date_x\"] == df_path_3_merged[\"Admit_Date\"])]\n",
    "df_path_3_merged_filtered"
   ]
  },
  {
   "cell_type": "code",
   "execution_count": null,
   "metadata": {},
   "outputs": [],
   "source": [
    "df_path_3_final = df_path_3_merged_filtered[[\"PATIENT_NUM\", \"ENCOUNTER_NUM\"]].drop_duplicates().reset_index(drop=True)\n",
    "df_path_3_final"
   ]
  },
  {
   "cell_type": "code",
   "execution_count": null,
   "metadata": {},
   "outputs": [],
   "source": [
    "path_3_patient_num = df_path_3_final[\"PATIENT_NUM\"].nunique()\n",
    "path_3_encounter_num = df_path_3_final[\"ENCOUNTER_NUM\"].nunique()\n",
    "print(f\"Number of unique patients: {path_3_patient_num}\")\n",
    "print(f\"Number of unique encounters: {path_3_encounter_num}\")"
   ]
  },
  {
   "cell_type": "markdown",
   "metadata": {},
   "source": [
    "### All Paths"
   ]
  },
  {
   "cell_type": "code",
   "execution_count": null,
   "metadata": {},
   "outputs": [],
   "source": [
    "path_all_final = pd.concat([df_path_1_final, df_path_2_final, df_path_3_final], ignore_index=True)\n",
    "path_all_final"
   ]
  },
  {
   "cell_type": "code",
   "execution_count": null,
   "metadata": {},
   "outputs": [],
   "source": [
    "path_all_final = path_all_final[['PATIENT_NUM', 'ENCOUNTER_NUM']].drop_duplicates().reset_index(drop=True)\n",
    "path_all_final"
   ]
  },
  {
   "cell_type": "code",
   "execution_count": null,
   "metadata": {},
   "outputs": [],
   "source": [
    "path_all_patient_num = path_all_final[\"PATIENT_NUM\"].nunique()\n",
    "path_all_encounter_num = path_all_final[\"ENCOUNTER_NUM\"].nunique()\n",
    "print(f\"Number of unique patients: {path_all_patient_num}\")\n",
    "print(f\"Number of unique encounters: {path_all_encounter_num}\")"
   ]
  },
  {
   "cell_type": "code",
   "execution_count": null,
   "metadata": {},
   "outputs": [],
   "source": [
    "path_all_final.to_csv(\"path_all_final.csv\", index=False)"
   ]
  },
  {
   "cell_type": "markdown",
   "metadata": {},
   "source": [
    "### New: prepare input for cTAKES"
   ]
  },
  {
   "cell_type": "code",
   "execution_count": null,
   "metadata": {},
   "outputs": [],
   "source": [
    "df_target_encounter = pd.read_csv(\"path_all_final.csv\")\n",
    "df_target_encounter"
   ]
  },
  {
   "cell_type": "code",
   "execution_count": null,
   "metadata": {},
   "outputs": [],
   "source": [
    "df_all_notes = pd.read_csv(\"/PHShome/bg615/Anaphylaxis_pipeline/Data/FE5_notes_all.csv\", usecols=[\"PATIENT_NUM\", \"ENCOUNTER_NUM\", \"UPDATE_DATE\", \"PROVIDER_ID\", \"OBSERVATION_BLOB\"])\n",
    "df_all_notes"
   ]
  },
  {
   "cell_type": "code",
   "execution_count": null,
   "metadata": {},
   "outputs": [],
   "source": [
    "df_all_notes.rename(columns={\"ENCOUNTER_NUM\": \"TEXT_ID\"}, inplace=True)\n",
    "df_all_notes"
   ]
  },
  {
   "cell_type": "code",
   "execution_count": null,
   "metadata": {},
   "outputs": [],
   "source": [
    "df_text_id_to_encounter_id = pd.read_csv(\"/PHShome/bg615/Anaphylaxis_pipeline/Data/text_id_to_encounter_id.csv\")\n",
    "df_text_id_to_encounter_id"
   ]
  },
  {
   "cell_type": "code",
   "execution_count": null,
   "metadata": {},
   "outputs": [],
   "source": [
    "df_all_notes_merged = pd.merge(df_all_notes, df_text_id_to_encounter_id, on=[\"TEXT_ID\"], how=\"inner\")\n",
    "df_all_notes_merged"
   ]
  },
  {
   "cell_type": "code",
   "execution_count": null,
   "metadata": {},
   "outputs": [],
   "source": [
    "df_all_notes_merged.rename(columns={\"EncounterID_Final\": \"ENCOUNTER_NUM\"}, inplace=True)\n",
    "df_all_notes_merged"
   ]
  },
  {
   "cell_type": "code",
   "execution_count": null,
   "metadata": {},
   "outputs": [],
   "source": [
    "df_merged_new = pd.merge(df_all_notes_merged, df_target_encounter, on=[\"PATIENT_NUM\"], how=\"inner\")\n",
    "df_merged_new"
   ]
  },
  {
   "cell_type": "code",
   "execution_count": null,
   "metadata": {},
   "outputs": [],
   "source": [
    "df_merged_new.rename(columns={\"ENCOUNTER_NUM_x\": \"ENCOUNTER_NUM\"}, inplace=True)\n",
    "df_merged_new.drop(columns=[\"ENCOUNTER_NUM_y\"], inplace=True)\n",
    "df_merged_new"
   ]
  },
  {
   "cell_type": "code",
   "execution_count": null,
   "metadata": {},
   "outputs": [],
   "source": [
    "df_merged_new.to_csv(\"/PHShome/bg615/Anaphylaxis_pipeline/Data/EHR Notes/anaphylaxis_notes.csv\", index=False)"
   ]
  },
  {
   "cell_type": "code",
   "execution_count": null,
   "metadata": {},
   "outputs": [],
   "source": [
    "df_merged_new[['PATIENT_NUM', 'ENCOUNTER_NUM']].drop_duplicates().reset_index(drop=True)"
   ]
  }
 ],
 "metadata": {
  "kernelspec": {
   "display_name": "dspy",
   "language": "python",
   "name": "python3"
  },
  "language_info": {
   "codemirror_mode": {
    "name": "ipython",
    "version": 3
   },
   "file_extension": ".py",
   "mimetype": "text/x-python",
   "name": "python",
   "nbconvert_exporter": "python",
   "pygments_lexer": "ipython3",
   "version": "3.11.9"
  }
 },
 "nbformat": 4,
 "nbformat_minor": 2
}
